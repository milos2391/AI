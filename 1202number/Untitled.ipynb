{
 "cells": [
  {
   "cell_type": "code",
   "execution_count": 1,
   "metadata": {},
   "outputs": [],
   "source": [
    "import tensorflow as tf\n",
    "import keras\n",
    "import cv2"
   ]
  },
  {
   "cell_type": "code",
   "execution_count": 2,
   "metadata": {},
   "outputs": [],
   "source": [
    "# #########################################################\n",
    "# prg1\n",
    "# 下載與讀取Mnist資料集\n",
    "\n",
    "from keras.datasets import mnist\n",
    "(train_feature, train_label), (test_feature, test_label) = mnist.load_data()\n",
    "\n"
   ]
  },
  {
   "cell_type": "code",
   "execution_count": 3,
   "metadata": {},
   "outputs": [
    {
     "name": "stdout",
     "output_type": "stream",
     "text": [
      "60000 60000\n",
      "(60000, 28, 28) (60000,)\n"
     ]
    }
   ],
   "source": [
    "\n",
    "# #########################################################\n",
    "# prg2\n",
    "\n",
    "from keras.datasets import mnist\n",
    "\n",
    "#讀取MNIST資料集\n",
    "(train_feature, train_label), (test_feature, test_label) = mnist.load_data()\n",
    "\n",
    "# 查看訓練資料\n",
    "print(len(train_feature), len(train_label))   #60000 60000\n",
    "\n",
    "# 查看維度\n",
    "print(train_feature.shape, train_label.shape)   # (60000, 28, 28) (60000,)\n",
    "\n"
   ]
  },
  {
   "cell_type": "code",
   "execution_count": 4,
   "metadata": {},
   "outputs": [
    {
     "name": "stdout",
     "output_type": "stream",
     "text": [
      "60000 60000\n",
      "(60000, 28, 28) (60000,)\n"
     ]
    },
    {
     "data": {
      "image/png": "[encoded data removed]",
      "text/plain": [
       "<Figure size 144x144 with 1 Axes>"
      ]
     },
     "metadata": {
      "needs_background": "light"
     },
     "output_type": "display_data"
    },
    {
     "name": "stdout",
     "output_type": "stream",
     "text": [
      "1\n"
     ]
    }
   ],
   "source": [
    "\n",
    "\n",
    "# #########################################################\n",
    "# prg3\n",
    "\n",
    "#prg3 顯示訓練資料的圖片與值\n",
    "from keras.datasets import mnist\n",
    "\n",
    "#讀取MNIST資料集\n",
    "(train_feature, train_label), (test_feature, test_label) = mnist.load_data()\n",
    "\n",
    "# 查看訓練資料\n",
    "print(len(train_feature), len(train_label))   #60000 60000\n",
    "\n",
    "# 查看維度\n",
    "print(train_feature.shape, train_label.shape)   # (60000, 28, 28) (60000,)\n",
    "\n",
    "# 顯示圖片與值\n",
    "import matplotlib.pyplot as plt\n",
    "def show_image(image):\n",
    "    fig = plt.gcf()\n",
    "    fig.set_size_inches(2,2)  #數字圖片大小\n",
    "    plt.imshow(image, cmap = 'binary')  #黑白灰階顯示\n",
    "    plt.show()\n",
    "\n",
    "show_image(train_feature[3])  #顯示訓練資料第1個數字\n",
    "\n",
    "print(train_label[3])    #顯示第1個訓練資料圖片真實值\n",
    "\n"
   ]
  },
  {
   "cell_type": "code",
   "execution_count": 5,
   "metadata": {},
   "outputs": [
    {
     "name": "stdout",
     "output_type": "stream",
     "text": [
      "60000 60000\n",
      "(60000, 28, 28) (60000,)\n"
     ]
    },
    {
     "data": {
      "image/png": "[encoded data removed]",
      "text/plain": [
       "<Figure size 144x144 with 1 Axes>"
      ]
     },
     "metadata": {
      "needs_background": "light"
     },
     "output_type": "display_data"
    },
    {
     "name": "stdout",
     "output_type": "stream",
     "text": [
      "1\n"
     ]
    }
   ],
   "source": [
    "# #########################################################\n",
    "# prg4\n",
    "\n",
    "#prg4 顯示多張訓練資料的圖片與值\n",
    "from keras.datasets import mnist\n",
    "\n",
    "#讀取MNIST資料集\n",
    "(train_feature, train_label), (test_feature, test_label) = mnist.load_data()\n",
    "\n",
    "# 查看訓練資料\n",
    "print(len(train_feature), len(train_label))   #60000 60000\n",
    "\n",
    "# 查看維度\n",
    "print(train_feature.shape, train_label.shape)   # (60000, 28, 28) (60000,)\n",
    "\n",
    "# 顯示圖片與值\n",
    "import matplotlib.pyplot as plt\n",
    "def show_image(image):\n",
    "    fig = plt.gcf()\n",
    "    fig.set_size_inches(2,2)  #數字圖片大小\n",
    "    plt.imshow(image, cmap = 'binary')  #黑白灰階顯示\n",
    "    plt.show()\n",
    "\t\n",
    "\t# 顯示多張資料副程式，最多顯示 25張\n",
    "show_image(train_feature[3])  #顯示訓練資料第1個數字\n",
    "\n",
    "print(train_label[3])    #顯示第1個訓練資料圖片真實值\n",
    "\n",
    "\n",
    "# 顯示多張圖片與值（最多25張）\n",
    "def show_images_labels_predictions(images,labels,\n",
    "                                  predictions,start_id,num=10):\n",
    "    plt.gcf().set_size_inches(12, 14)\n",
    "    if num>25: num=25 \n",
    "    for i in range(0, num):\n",
    "        ax=plt.subplot(5,5, 1+i)\n",
    "        #顯示黑白圖片\n",
    "        ax.imshow(images[start_id], cmap='binary')\n",
    "        \n",
    "        # 有 AI 預測結果資料, 才在標題顯示預測結果\n",
    "        if( len(predictions) > 0 ) :\n",
    "            title = 'ai = ' + str(predictions[i])\n",
    "            # 預測正確顯示(o), 錯誤顯示(x)\n",
    "            title += (' (o)' if predictions[i]==labels[i] else ' (x)') \n",
    "            title += '\\nlabel = ' + str(labels[i])\n",
    "        # 沒有 AI 預測結果資料, 只在標題顯示真實數值\n",
    "        else :\n",
    "            title = 'label = ' + str(labels[i])\n",
    "            \n",
    "        # X, Y 軸不顯示刻度    \n",
    "        ax.set_title(title,fontsize=12) \n",
    "        ax.set_xticks([]);ax.set_yticks([])        \n",
    "        start_id+=1 \n",
    "    plt.show()\n",
    "\n"
   ]
  },
  {
   "cell_type": "code",
   "execution_count": 6,
   "metadata": {},
   "outputs": [
    {
     "name": "stdout",
     "output_type": "stream",
     "text": [
      "(60000, 784) (10000, 784)\n",
      "[  0.   0.   0.   0.   0.   0.   0.   0.   0.   0.   0.   0.   0.   0.\n",
      "   0.   0.   0.   0.   0.   0.   0.   0.   0.   0.   0.   0.   0.   0.\n",
      "   0.   0.   0.   0.   0.   0.   0.   0.   0.   0.   0.   0.   0.   0.\n",
      "   0.   0.   0.   0.   0.   0.   0.   0.   0.   0.   0.   0.   0.   0.\n",
      "   0.   0.   0.   0.   0.   0.   0.   0.   0.   0.   0.   0.   0.   0.\n",
      "   0.   0.   0.   0.   0.   0.   0.   0.   0.   0.   0.   0.   0.   0.\n",
      "   0.   0.   0.   0.   0.   0.   0.   0.   0.   0.   0.   0.   0.   0.\n",
      "   0.   0.   0.   0.   0.   0.   0.   0.   0.   0.   0.   0.   0.   0.\n",
      "   0.   0.   0.   0.   0.   0.   0.   0.   0.   0.   0.   0.   0.   0.\n",
      "   0.   0.   0.   0.   0.   0.   0.   0.   0.   0.   0.   0.   0.   0.\n",
      "   0.   0.   0.   0.   0.   0.   0.   0.   0.   0.   0.   0.   3.  18.\n",
      "  18.  18. 126. 136. 175.  26. 166. 255. 247. 127.   0.   0.   0.   0.\n",
      "   0.   0.   0.   0.   0.   0.   0.   0.  30.  36.  94. 154. 170. 253.\n",
      " 253. 253. 253. 253. 225. 172. 253. 242. 195.  64.   0.   0.   0.   0.\n",
      "   0.   0.   0.   0.   0.   0.   0.  49. 238. 253. 253. 253. 253. 253.\n",
      " 253. 253. 253. 251.  93.  82.  82.  56.  39.   0.   0.   0.   0.   0.\n",
      "   0.   0.   0.   0.   0.   0.   0.  18. 219. 253. 253. 253. 253. 253.\n",
      " 198. 182. 247. 241.   0.   0.   0.   0.   0.   0.   0.   0.   0.   0.\n",
      "   0.   0.   0.   0.   0.   0.   0.   0.  80. 156. 107. 253. 253. 205.\n",
      "  11.   0.  43. 154.   0.   0.   0.   0.   0.   0.   0.   0.   0.   0.\n",
      "   0.   0.   0.   0.   0.   0.   0.   0.   0.  14.   1. 154. 253.  90.\n",
      "   0.   0.   0.   0.   0.   0.   0.   0.   0.   0.   0.   0.   0.   0.\n",
      "   0.   0.   0.   0.   0.   0.   0.   0.   0.   0.   0. 139. 253. 190.\n",
      "   2.   0.   0.   0.   0.   0.   0.   0.   0.   0.   0.   0.   0.   0.\n",
      "   0.   0.   0.   0.   0.   0.   0.   0.   0.   0.   0.  11. 190. 253.\n",
      "  70.   0.   0.   0.   0.   0.   0.   0.   0.   0.   0.   0.   0.   0.\n",
      "   0.   0.   0.   0.   0.   0.   0.   0.   0.   0.   0.   0.  35. 241.\n",
      " 225. 160. 108.   1.   0.   0.   0.   0.   0.   0.   0.   0.   0.   0.\n",
      "   0.   0.   0.   0.   0.   0.   0.   0.   0.   0.   0.   0.   0.  81.\n",
      " 240. 253. 253. 119.  25.   0.   0.   0.   0.   0.   0.   0.   0.   0.\n",
      "   0.   0.   0.   0.   0.   0.   0.   0.   0.   0.   0.   0.   0.   0.\n",
      "  45. 186. 253. 253. 150.  27.   0.   0.   0.   0.   0.   0.   0.   0.\n",
      "   0.   0.   0.   0.   0.   0.   0.   0.   0.   0.   0.   0.   0.   0.\n",
      "   0.  16.  93. 252. 253. 187.   0.   0.   0.   0.   0.   0.   0.   0.\n",
      "   0.   0.   0.   0.   0.   0.   0.   0.   0.   0.   0.   0.   0.   0.\n",
      "   0.   0.   0. 249. 253. 249.  64.   0.   0.   0.   0.   0.   0.   0.\n",
      "   0.   0.   0.   0.   0.   0.   0.   0.   0.   0.   0.   0.   0.   0.\n",
      "  46. 130. 183. 253. 253. 207.   2.   0.   0.   0.   0.   0.   0.   0.\n",
      "   0.   0.   0.   0.   0.   0.   0.   0.   0.   0.   0.   0.  39. 148.\n",
      " 229. 253. 253. 253. 250. 182.   0.   0.   0.   0.   0.   0.   0.   0.\n",
      "   0.   0.   0.   0.   0.   0.   0.   0.   0.   0.  24. 114. 221. 253.\n",
      " 253. 253. 253. 201.  78.   0.   0.   0.   0.   0.   0.   0.   0.   0.\n",
      "   0.   0.   0.   0.   0.   0.   0.   0.  23.  66. 213. 253. 253. 253.\n",
      " 253. 198.  81.   2.   0.   0.   0.   0.   0.   0.   0.   0.   0.   0.\n",
      "   0.   0.   0.   0.   0.   0.  18. 171. 219. 253. 253. 253. 253. 195.\n",
      "  80.   9.   0.   0.   0.   0.   0.   0.   0.   0.   0.   0.   0.   0.\n",
      "   0.   0.   0.   0.  55. 172. 226. 253. 253. 253. 253. 244. 133.  11.\n",
      "   0.   0.   0.   0.   0.   0.   0.   0.   0.   0.   0.   0.   0.   0.\n",
      "   0.   0.   0.   0. 136. 253. 253. 253. 212. 135. 132.  16.   0.   0.\n",
      "   0.   0.   0.   0.   0.   0.   0.   0.   0.   0.   0.   0.   0.   0.\n",
      "   0.   0.   0.   0.   0.   0.   0.   0.   0.   0.   0.   0.   0.   0.\n",
      "   0.   0.   0.   0.   0.   0.   0.   0.   0.   0.   0.   0.   0.   0.\n",
      "   0.   0.   0.   0.   0.   0.   0.   0.   0.   0.   0.   0.   0.   0.\n",
      "   0.   0.   0.   0.   0.   0.   0.   0.   0.   0.   0.   0.   0.   0.\n",
      "   0.   0.   0.   0.   0.   0.   0.   0.   0.   0.   0.   0.   0.   0.\n",
      "   0.   0.   0.   0.   0.   0.   0.   0.   0.   0.   0.   0.   0.   0.]\n"
     ]
    }
   ],
   "source": [
    "# #########################################################\n",
    "# Prg5\n",
    "# 以reshape()函數將28*28的數字圖片轉換成784個數字的一維向量，再以astype將每個數字都轉換為float數字\n",
    "\n",
    "# 以reshape()函數將28*28的數字圖片轉換成784個數字的一維向量，再以astype將每個數字都轉換為float數字\n",
    "train_feature_vector = train_feature.reshape(len(train_feature),784).astype('float32')\n",
    "test_feature_vector = test_feature.reshape(len(test_feature),784).astype('float32')\n",
    "\n",
    "#查看資料\n",
    "print(train_feature_vector.shape, test_feature_vector.shape)\n",
    "\n",
    "# 顯示第1筆image資料內容。顯示0~255的浮點數。數字代表圖片中美一個點的灰階值\n",
    "print(train_feature_vector[0])\n",
    "\n"
   ]
  },
  {
   "cell_type": "code",
   "execution_count": 7,
   "metadata": {},
   "outputs": [
    {
     "name": "stdout",
     "output_type": "stream",
     "text": [
      "[0.         0.         0.         0.         0.         0.\n",
      " 0.         0.         0.         0.         0.         0.\n",
      " 0.         0.         0.         0.         0.         0.\n",
      " 0.         0.         0.         0.         0.         0.\n",
      " 0.         0.         0.         0.         0.         0.\n",
      " 0.         0.         0.         0.         0.         0.\n",
      " 0.         0.         0.         0.         0.         0.\n",
      " 0.         0.         0.         0.         0.         0.\n",
      " 0.         0.         0.         0.         0.         0.\n",
      " 0.         0.         0.         0.         0.         0.\n",
      " 0.         0.         0.         0.         0.         0.\n",
      " 0.         0.         0.         0.         0.         0.\n",
      " 0.         0.         0.         0.         0.         0.\n",
      " 0.         0.         0.         0.         0.         0.\n",
      " 0.         0.         0.         0.         0.         0.\n",
      " 0.         0.         0.         0.         0.         0.\n",
      " 0.         0.         0.         0.         0.         0.\n",
      " 0.         0.         0.         0.         0.         0.\n",
      " 0.         0.         0.         0.         0.         0.\n",
      " 0.         0.         0.         0.         0.         0.\n",
      " 0.         0.         0.         0.         0.         0.\n",
      " 0.         0.         0.         0.         0.         0.\n",
      " 0.         0.         0.         0.         0.         0.\n",
      " 0.         0.         0.         0.         0.         0.\n",
      " 0.         0.         0.         0.         0.         0.\n",
      " 0.         0.         0.01176471 0.07058824 0.07058824 0.07058824\n",
      " 0.49411765 0.53333336 0.6862745  0.10196079 0.6509804  1.\n",
      " 0.96862745 0.49803922 0.         0.         0.         0.\n",
      " 0.         0.         0.         0.         0.         0.\n",
      " 0.         0.         0.11764706 0.14117648 0.36862746 0.6039216\n",
      " 0.6666667  0.99215686 0.99215686 0.99215686 0.99215686 0.99215686\n",
      " 0.88235295 0.6745098  0.99215686 0.9490196  0.7647059  0.2509804\n",
      " 0.         0.         0.         0.         0.         0.\n",
      " 0.         0.         0.         0.         0.         0.19215687\n",
      " 0.93333334 0.99215686 0.99215686 0.99215686 0.99215686 0.99215686\n",
      " 0.99215686 0.99215686 0.99215686 0.9843137  0.3647059  0.32156864\n",
      " 0.32156864 0.21960784 0.15294118 0.         0.         0.\n",
      " 0.         0.         0.         0.         0.         0.\n",
      " 0.         0.         0.         0.07058824 0.85882354 0.99215686\n",
      " 0.99215686 0.99215686 0.99215686 0.99215686 0.7764706  0.7137255\n",
      " 0.96862745 0.94509804 0.         0.         0.         0.\n",
      " 0.         0.         0.         0.         0.         0.\n",
      " 0.         0.         0.         0.         0.         0.\n",
      " 0.         0.         0.3137255  0.6117647  0.41960785 0.99215686\n",
      " 0.99215686 0.8039216  0.04313726 0.         0.16862746 0.6039216\n",
      " 0.         0.         0.         0.         0.         0.\n",
      " 0.         0.         0.         0.         0.         0.\n",
      " 0.         0.         0.         0.         0.         0.\n",
      " 0.         0.05490196 0.00392157 0.6039216  0.99215686 0.3529412\n",
      " 0.         0.         0.         0.         0.         0.\n",
      " 0.         0.         0.         0.         0.         0.\n",
      " 0.         0.         0.         0.         0.         0.\n",
      " 0.         0.         0.         0.         0.         0.\n",
      " 0.         0.54509807 0.99215686 0.74509805 0.00784314 0.\n",
      " 0.         0.         0.         0.         0.         0.\n",
      " 0.         0.         0.         0.         0.         0.\n",
      " 0.         0.         0.         0.         0.         0.\n",
      " 0.         0.         0.         0.         0.         0.04313726\n",
      " 0.74509805 0.99215686 0.27450982 0.         0.         0.\n",
      " 0.         0.         0.         0.         0.         0.\n",
      " 0.         0.         0.         0.         0.         0.\n",
      " 0.         0.         0.         0.         0.         0.\n",
      " 0.         0.         0.         0.         0.13725491 0.94509804\n",
      " 0.88235295 0.627451   0.42352942 0.00392157 0.         0.\n",
      " 0.         0.         0.         0.         0.         0.\n",
      " 0.         0.         0.         0.         0.         0.\n",
      " 0.         0.         0.         0.         0.         0.\n",
      " 0.         0.         0.         0.31764707 0.9411765  0.99215686\n",
      " 0.99215686 0.46666667 0.09803922 0.         0.         0.\n",
      " 0.         0.         0.         0.         0.         0.\n",
      " 0.         0.         0.         0.         0.         0.\n",
      " 0.         0.         0.         0.         0.         0.\n",
      " 0.         0.         0.1764706  0.7294118  0.99215686 0.99215686\n",
      " 0.5882353  0.10588235 0.         0.         0.         0.\n",
      " 0.         0.         0.         0.         0.         0.\n",
      " 0.         0.         0.         0.         0.         0.\n",
      " 0.         0.         0.         0.         0.         0.\n",
      " 0.         0.0627451  0.3647059  0.9882353  0.99215686 0.73333335\n",
      " 0.         0.         0.         0.         0.         0.\n",
      " 0.         0.         0.         0.         0.         0.\n",
      " 0.         0.         0.         0.         0.         0.\n",
      " 0.         0.         0.         0.         0.         0.\n",
      " 0.         0.9764706  0.99215686 0.9764706  0.2509804  0.\n",
      " 0.         0.         0.         0.         0.         0.\n",
      " 0.         0.         0.         0.         0.         0.\n",
      " 0.         0.         0.         0.         0.         0.\n",
      " 0.         0.         0.18039216 0.50980395 0.7176471  0.99215686\n",
      " 0.99215686 0.8117647  0.00784314 0.         0.         0.\n",
      " 0.         0.         0.         0.         0.         0.\n",
      " 0.         0.         0.         0.         0.         0.\n",
      " 0.         0.         0.         0.         0.15294118 0.5803922\n",
      " 0.8980392  0.99215686 0.99215686 0.99215686 0.98039216 0.7137255\n",
      " 0.         0.         0.         0.         0.         0.\n",
      " 0.         0.         0.         0.         0.         0.\n",
      " 0.         0.         0.         0.         0.         0.\n",
      " 0.09411765 0.44705883 0.8666667  0.99215686 0.99215686 0.99215686\n",
      " 0.99215686 0.7882353  0.30588236 0.         0.         0.\n",
      " 0.         0.         0.         0.         0.         0.\n",
      " 0.         0.         0.         0.         0.         0.\n",
      " 0.         0.         0.09019608 0.25882354 0.8352941  0.99215686\n",
      " 0.99215686 0.99215686 0.99215686 0.7764706  0.31764707 0.00784314\n",
      " 0.         0.         0.         0.         0.         0.\n",
      " 0.         0.         0.         0.         0.         0.\n",
      " 0.         0.         0.         0.         0.07058824 0.67058825\n",
      " 0.85882354 0.99215686 0.99215686 0.99215686 0.99215686 0.7647059\n",
      " 0.3137255  0.03529412 0.         0.         0.         0.\n",
      " 0.         0.         0.         0.         0.         0.\n",
      " 0.         0.         0.         0.         0.         0.\n",
      " 0.21568628 0.6745098  0.8862745  0.99215686 0.99215686 0.99215686\n",
      " 0.99215686 0.95686275 0.52156866 0.04313726 0.         0.\n",
      " 0.         0.         0.         0.         0.         0.\n",
      " 0.         0.         0.         0.         0.         0.\n",
      " 0.         0.         0.         0.         0.53333336 0.99215686\n",
      " 0.99215686 0.99215686 0.83137256 0.5294118  0.5176471  0.0627451\n",
      " 0.         0.         0.         0.         0.         0.\n",
      " 0.         0.         0.         0.         0.         0.\n",
      " 0.         0.         0.         0.         0.         0.\n",
      " 0.         0.         0.         0.         0.         0.\n",
      " 0.         0.         0.         0.         0.         0.\n",
      " 0.         0.         0.         0.         0.         0.\n",
      " 0.         0.         0.         0.         0.         0.\n",
      " 0.         0.         0.         0.         0.         0.\n",
      " 0.         0.         0.         0.         0.         0.\n",
      " 0.         0.         0.         0.         0.         0.\n",
      " 0.         0.         0.         0.         0.         0.\n",
      " 0.         0.         0.         0.         0.         0.\n",
      " 0.         0.         0.         0.         0.         0.\n",
      " 0.         0.         0.         0.         0.         0.\n",
      " 0.         0.         0.         0.         0.         0.\n",
      " 0.         0.         0.         0.         0.         0.\n",
      " 0.         0.         0.         0.        ]\n"
     ]
    }
   ],
   "source": [
    "\n",
    "# #########################################################\n",
    "# Prg6\n",
    "# Image標準化\n",
    "train_feature_normalize = train_feature_vector/255\n",
    "test_feature_normalize = test_feature_vector/255\n",
    "\n",
    "#顯示第1筆的image正規化\n",
    "print(train_feature_normalize[0])\n"
   ]
  },
  {
   "cell_type": "code",
   "execution_count": 8,
   "metadata": {},
   "outputs": [
    {
     "name": "stdout",
     "output_type": "stream",
     "text": [
      "[[0. 0. 0. 0. 0. 1. 0. 0. 0. 0.]\n",
      " [1. 0. 0. 0. 0. 0. 0. 0. 0. 0.]\n",
      " [0. 0. 0. 0. 1. 0. 0. 0. 0. 0.]\n",
      " [0. 1. 0. 0. 0. 0. 0. 0. 0. 0.]\n",
      " [0. 0. 0. 0. 0. 0. 0. 0. 0. 1.]]\n"
     ]
    }
   ],
   "source": [
    "# #########################################################\n",
    "# Prg7\n",
    "# One-Hot Encoding\n",
    "\n",
    "import numpy as np\n",
    "from keras.utils import np_utils\n",
    "np.random.seed(10)\n",
    "\n",
    "train_label_onehot = np_utils.to_categorical(train_label)\n",
    "test_label_onehot = np_utils.to_categorical(test_label)\n",
    "\n",
    "print(train_label_onehot[0:5])\n"
   ]
  },
  {
   "cell_type": "code",
   "execution_count": 9,
   "metadata": {},
   "outputs": [
    {
     "name": "stdout",
     "output_type": "stream",
     "text": [
      "WARNING:tensorflow:From <ipython-input-9-67d15153f043>:13: Sequential.predict_classes (from tensorflow.python.keras.engine.sequential) is deprecated and will be removed after 2021-01-01.\n",
      "Instructions for updating:\n",
      "Please use instead:* `np.argmax(model.predict(x), axis=-1)`,   if your model does multi-class classification   (e.g. if it uses a `softmax` last-layer activation).* `(model.predict(x) > 0.5).astype(\"int32\")`,   if your model does binary classification   (e.g. if it uses a `sigmoid` last-layer activation).\n"
     ]
    },
    {
     "data": {
      "image/png": "[encoded data removed]",
      "text/plain": [
       "<Figure size 864x1008 with 10 Axes>"
      ]
     },
     "metadata": {},
     "output_type": "display_data"
    }
   ],
   "source": [
    "\n",
    "# #########################################################\n",
    "# Prg8\n",
    "#建立模型\n",
    "import matplotlib.pyplot as pit\n",
    "from keras.models import Sequential\n",
    "from keras.layers import Dense\n",
    "\n",
    "#建立模型\n",
    "from keras.models import Sequential\n",
    "model = Sequential()\n",
    "\n",
    "#預測\n",
    "prediction=model.predict_classes(test_feature_normalize)\n",
    "\n",
    "#顯示圖像、預測值、真實值 \n",
    "show_images_labels_predictions(test_feature,test_label,prediction,0)\n"
   ]
  },
  {
   "cell_type": "code",
   "execution_count": 10,
   "metadata": {},
   "outputs": [
    {
     "name": "stdout",
     "output_type": "stream",
     "text": [
      "Mnist_mlp_model.h5 模型儲存完畢\n"
     ]
    }
   ],
   "source": [
    "# #########################################################\n",
    "# Prg9\n",
    "# 將模型儲存在 .HDF5檔案中\n",
    "\n",
    "model.save('Mnist_mlp_model.h5')\n",
    "print(\"Mnist_mlp_model.h5 模型儲存完畢\")\n",
    "del model\n",
    "\n",
    "#載入模型\n",
    "#load_model('Mnist_ml-Model.h5')\n"
   ]
  },
  {
   "cell_type": "code",
   "execution_count": 11,
   "metadata": {},
   "outputs": [
    {
     "name": "stdout",
     "output_type": "stream",
     "text": [
      "載入模型 Mnist_mlp_model.h5\n",
      "WARNING:tensorflow:No training configuration found in the save file, so the model was *not* compiled. Compile it manually.\n"
     ]
    },
    {
     "data": {
      "image/png": "[encoded data removed]",
      "text/plain": [
       "<Figure size 864x1008 with 10 Axes>"
      ]
     },
     "metadata": {},
     "output_type": "display_data"
    }
   ],
   "source": [
    "# #########################################################\n",
    "\n",
    "#Prg10 載入預先訓練好的模型\n",
    "\n",
    "import numpy as np\n",
    "np.random.seed(10)\n",
    "from keras.datasets import mnist\n",
    "import matplotlib.pyplot as plt\n",
    "from keras.models import load_model\n",
    "\n",
    "def show_images_labels_predictions(images,labels,\n",
    "                                  predictions,start_id,num=10):\n",
    "    plt.gcf().set_size_inches(12, 14)\n",
    "    if num>25: num=25 \n",
    "    for i in range(0, num):\n",
    "        ax=plt.subplot(5,5, 1+i)\n",
    "        #顯示黑白圖片\n",
    "        ax.imshow(images[start_id], cmap='binary')\n",
    "        \n",
    "        # 有 AI 預測結果資料, 才在標題顯示預測結果\n",
    "        if( len(predictions) > 0 ) :\n",
    "            title = 'ai = ' + str(predictions[i])\n",
    "            # 預測正確顯示(o), 錯誤顯示(x)\n",
    "            title += (' (o)' if predictions[i]==labels[i] else ' (x)') \n",
    "            title += '\\nlabel = ' + str(labels[i])\n",
    "        # 沒有 AI 預測結果資料, 只在標題顯示真實數值\n",
    "        else :\n",
    "            title = 'label = ' + str(labels[i])\n",
    "            \n",
    "        # X, Y 軸不顯示刻度    \n",
    "        ax.set_title(title,fontsize=12) \n",
    "        ax.set_xticks([]);ax.set_yticks([])        \n",
    "        start_id+=1 \n",
    "    plt.show()\n",
    "\n",
    "#建立訓練資料和測試資料，包括訓練特徵集、訓練標籤和測試特徵集、測試標籤\t\n",
    "(train_feature, train_label),\\\n",
    "(test_feature, test_label) = mnist.load_data()\n",
    "\n",
    "#將 Features 特徵值換為 784個 float 數字的 1 維向量\n",
    "test_feature_vector = test_feature.reshape(len( test_feature), 784).astype('float32')\n",
    "\n",
    "#Features 特徵值標準化\n",
    "test_feature_normalize = test_feature_vector/255\n",
    "\n",
    "#從 HDF5 檔案中載入模型\n",
    "print(\"載入模型 Mnist_mlp_model.h5\")\n",
    "model = load_model('Mnist_mlp_model.h5')\n",
    "    \n",
    "#預測\n",
    "prediction=model.predict_classes(test_feature_normalize)\n",
    "\n",
    "#顯示圖像、預測值、真實值 \n",
    "show_images_labels_predictions(test_feature,test_label,prediction,0)\n"
   ]
  },
  {
   "cell_type": "code",
   "execution_count": 12,
   "metadata": {},
   "outputs": [
    {
     "name": "stdout",
     "output_type": "stream",
     "text": [
      "['imagedata\\\\1.jpg', 'imagedata\\\\2_1.jpg', 'imagedata\\\\3_1.jpg', 'imagedata\\\\4_1.jpg', 'imagedata\\\\5_1.jpg', 'imagedata\\\\6_1.jpg', 'imagedata\\\\7.jpg', 'imagedata\\\\7_1.jpg', 'imagedata\\\\7_2.jpg', 'imagedata\\\\9_1.jpg', 'imagedata\\\\9_2.jpg', 'imagedata\\\\9_3.jpg']\n",
      "[[[0 0 0 ... 0 0 0]\n",
      "  [0 0 0 ... 0 0 0]\n",
      "  [0 0 0 ... 0 0 0]\n",
      "  ...\n",
      "  [0 0 0 ... 0 0 0]\n",
      "  [0 0 0 ... 0 0 0]\n",
      "  [0 0 0 ... 0 0 0]]\n",
      "\n",
      " [[0 0 0 ... 0 0 0]\n",
      "  [0 0 0 ... 0 0 0]\n",
      "  [0 0 0 ... 0 0 0]\n",
      "  ...\n",
      "  [0 0 0 ... 0 0 0]\n",
      "  [0 0 0 ... 0 0 0]\n",
      "  [0 0 0 ... 0 0 0]]\n",
      "\n",
      " [[0 0 0 ... 0 0 0]\n",
      "  [0 0 0 ... 0 0 0]\n",
      "  [0 0 0 ... 0 0 0]\n",
      "  ...\n",
      "  [0 0 0 ... 0 0 0]\n",
      "  [0 0 0 ... 0 0 0]\n",
      "  [0 0 0 ... 0 0 0]]\n",
      "\n",
      " ...\n",
      "\n",
      " [[0 0 0 ... 0 0 0]\n",
      "  [0 0 0 ... 0 0 0]\n",
      "  [0 0 0 ... 0 0 0]\n",
      "  ...\n",
      "  [0 0 0 ... 0 0 0]\n",
      "  [0 0 0 ... 0 0 0]\n",
      "  [0 0 0 ... 0 0 0]]\n",
      "\n",
      " [[0 0 0 ... 0 0 0]\n",
      "  [0 0 0 ... 0 0 0]\n",
      "  [0 0 0 ... 0 0 0]\n",
      "  ...\n",
      "  [0 0 0 ... 0 0 0]\n",
      "  [0 0 0 ... 0 0 0]\n",
      "  [0 0 0 ... 0 0 0]]\n",
      "\n",
      " [[0 0 0 ... 0 0 0]\n",
      "  [0 0 0 ... 0 0 0]\n",
      "  [0 0 0 ... 0 0 0]\n",
      "  ...\n",
      "  [0 0 0 ... 0 0 0]\n",
      "  [0 0 0 ... 0 0 0]\n",
      "  [0 0 0 ... 0 0 0]]]\n",
      "[1 2 3 4 5 6 7 7 7 9 9 9]\n",
      "載入模型 Mnist_mlp_model.h5\n",
      "WARNING:tensorflow:No training configuration found in the save file, so the model was *not* compiled. Compile it manually.\n"
     ]
    },
    {
     "data": {
      "image/png": "[encoded data removed]",
      "text/plain": [
       "<Figure size 864x1008 with 10 Axes>"
      ]
     },
     "metadata": {},
     "output_type": "display_data"
    }
   ],
   "source": [
    "# #########################################################\n",
    "#Prg11 載入預先訓練好的模型\n",
    "\n",
    "import numpy as np\n",
    "np.random.seed(10)\n",
    "from keras.datasets import mnist\n",
    "import matplotlib.pyplot as plt\n",
    "from keras.models import load_model\n",
    "import glob,cv2\n",
    "\n",
    "def show_images_labels_predictions(images,labels,\n",
    "                                  predictions,start_id,num=10):\n",
    "    plt.gcf().set_size_inches(12, 14)\n",
    "    if num>25: num=25 \n",
    "    for i in range(0, num):\n",
    "        ax=plt.subplot(5,5, 1+i)\n",
    "        #顯示黑白圖片\n",
    "        ax.imshow(images[start_id], cmap='binary')\n",
    "        \n",
    "        # 有 AI 預測結果資料, 才在標題顯示預測結果\n",
    "        if( len(predictions) > 0 ) :\n",
    "            title = 'ai = ' + str(predictions[i])\n",
    "            # 預測正確顯示(o), 錯誤顯示(x)\n",
    "            title += (' (o)' if predictions[i]==labels[i] else ' (x)') \n",
    "            title += '\\nlabel = ' + str(labels[i])\n",
    "        # 沒有 AI 預測結果資料, 只在標題顯示真實數值\n",
    "        else :\n",
    "            title = 'label = ' + str(labels[i])\n",
    "            \n",
    "        # X, Y 軸不顯示刻度    \n",
    "        ax.set_title(title,fontsize=12) \n",
    "        ax.set_xticks([]);ax.set_yticks([])        \n",
    "        start_id+=1 \n",
    "    plt.show()\n",
    "\n",
    "#建立測試特徵集、測試標籤\t    \n",
    "files = glob.glob(\"imagedata\\*.jpg\" )\n",
    "test_feature=[]\n",
    "test_label=[]\n",
    "print(files)\n",
    "\n",
    "for file in files:\n",
    "    img=cv2.imread(file)\n",
    "    img=cv2.cvtColor(img,cv2.COLOR_BGR2GRAY)  #灰階    \n",
    "    _, img = cv2.threshold(img, 120, 255, cv2.THRESH_BINARY_INV) #轉為反相黑白 \n",
    "    test_feature.append(img)\n",
    "    label=file[10:11]  # \"imagedata\\1.jpg\" 第10個字元1為label\n",
    "    test_label.append(int(label))\n",
    "    \n",
    "test_feature=np.array(test_feature) #把串列轉為矩陣\n",
    "test_label=np.array(test_label) #把串列轉為矩陣\n",
    "\n",
    "print(test_feature)\n",
    "print(test_label)\n",
    "\n",
    "#將 Features 特徵值換為 784個 float 數字的 1 維向量\n",
    "test_feature_vector = test_feature.reshape(len(test_feature), 784).astype('float32')\n",
    "\n",
    "#Features 特徵值標準化\n",
    "test_feature_normalize = test_feature_vector/255\n",
    "\n",
    "#從 HDF5 檔案中載入模型\n",
    "print(\"載入模型 Mnist_mlp_model.h5\")\n",
    "model = load_model('Mnist_mlp_model.h5')\n",
    "    \n",
    "#預測\n",
    "prediction=model.predict_classes(test_feature_normalize)\n",
    "\n",
    "#顯示圖像、預測值、真實值 \n",
    "show_images_labels_predictions(test_feature,test_label,prediction,0)"
   ]
  }
 ],
 "metadata": {
  "kernelspec": {
   "display_name": "Python 3",
   "language": "python",
   "name": "python3"
  },
  "language_info": {
   "codemirror_mode": {
    "name": "ipython",
    "version": 3
   },
   "file_extension": ".py",
   "mimetype": "text/x-python",
   "name": "python",
   "nbconvert_exporter": "python",
   "pygments_lexer": "ipython3",
   "version": "3.8.3"
  }
 },
 "nbformat": 4,
 "nbformat_minor": 4
}
